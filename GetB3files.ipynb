{
 "cells": [
  {
   "cell_type": "code",
   "execution_count": 1,
   "id": "66d6115c-9d04-4e3f-84c3-53614cf9007e",
   "metadata": {},
   "outputs": [],
   "source": [
    "from b3parser import B3Parser\n",
    "import os\n",
    "import pandas as pd\n",
    "import numpy as np\n",
    "if __name__ == '__main__':\n",
    "    cols_sel = [\n",
    "        'data_pregao',\n",
    "        'cod_bdi',\n",
    "        'cod_papel',\n",
    "        'tp_merc',\n",
    "        'nome_resum',\n",
    "        'espec_papel',\n",
    "        'prazo_dias_termo',\n",
    "        'moeda',\n",
    "        'preco_abertura',\n",
    "        'preco_maximo',\n",
    "        'preco_minimo',\n",
    "        'preco_medio',\n",
    "        'preco_ultimo',\n",
    "        'preco_melhor_compra',\n",
    "        'preco_melhor_venda',\n",
    "        'num_negocios',\n",
    "        'qtde_titulos',\n",
    "        'vol_titulos',\n",
    "        'preco_exerc',\n",
    "        'indicador_correcao',\n",
    "        'data_vencimento',\n",
    "        'fator_cotacao',\n",
    "        'preco_exerc_pontos',\n",
    "        'cod_isi',\n",
    "        'distribuicao_papel',\n",
    "    ]\n",
    "\n",
    "    cods_bdi = [\n",
    "        '78', #call\n",
    "        '82', #put\n",
    "        '02', #papel\n",
    "    ]\n",
    "\n",
    "    tps_merc = [\n",
    "        '010',  # VISTA\n",
    "        '020',  # FRACIONÁRIO\n",
    "    ]\n",
    "\n",
    "    filtros = {\n",
    "       'cod_bdi': ( 'in', cods_bdi ),\n",
    "    }\n",
    "\n",
    "    anos = [2010,2011,2012,2013,2014,2015,2016,2017,2018,2019,2020,2021,2022]\n",
    "    \n",
    "    for ano in anos: \n",
    "        parser = B3Parser( 'COTAHIST_A{0}.TXT'.format( ano ) )\n",
    "\n",
    "        parser.ler_arquivo( cols_sel = cols_sel, filtros = filtros )\n",
    "        #parser.ler_arquivo(filtros = filtros)\n",
    "        #parser.exportar_json( 'data/{0}.json'.format( ano ) )\n",
    "        #parser.exportar_sql( 'data/{0}.sql'.format( ano ) )\n",
    "        parser.exportar_csv( r'C:\\Users\\vitor\\TCC Giulia\\séries históricas 00-22\\COTAHIST_A{0}'.format( ano ) )"
   ]
  },
  {
   "cell_type": "code",
   "execution_count": 2,
   "id": "64bc309f-62b1-4cdf-b3b8-d6e4fa689861",
   "metadata": {},
   "outputs": [
    {
     "name": "stdout",
     "output_type": "stream",
     "text": [
      "oi\n"
     ]
    }
   ],
   "source": [
    "print(\"oi\")"
   ]
  },
  {
   "cell_type": "code",
   "execution_count": null,
   "id": "e4431ed5-b338-48d1-9369-72348ce522dd",
   "metadata": {},
   "outputs": [],
   "source": []
  }
 ],
 "metadata": {
  "kernelspec": {
   "display_name": "Python 3 (ipykernel)",
   "language": "python",
   "name": "python3"
  },
  "language_info": {
   "codemirror_mode": {
    "name": "ipython",
    "version": 3
   },
   "file_extension": ".py",
   "mimetype": "text/x-python",
   "name": "python",
   "nbconvert_exporter": "python",
   "pygments_lexer": "ipython3",
   "version": "3.9.5"
  }
 },
 "nbformat": 4,
 "nbformat_minor": 5
}
