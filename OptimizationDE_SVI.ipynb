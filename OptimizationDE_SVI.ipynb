{
  "cells": [
    {
      "cell_type": "code",
      "execution_count": 1,
      "metadata": {
        "id": "jARtfEtGQreC"
      },
      "outputs": [],
      "source": [
        "from datetime import date\n",
        "from datetime import datetime\n",
        "import numpy as np\n",
        "from scipy.stats import norm\n",
        "from scipy.optimize import minimize_scalar   \n",
        "import pandas as pd\n",
        "import pandas_datareader.data as web\n",
        "import datetime as dt\n",
        "from numpy import arange\n",
        "from pandas import read_csv\n",
        "from scipy.optimize import curve_fit\n",
        "import matplotlib.pyplot as plt\n",
        "from scipy import stats\n",
        "from scipy.optimize import differential_evolution"
      ],
      "id": "jARtfEtGQreC"
    },
    {
      "cell_type": "code",
      "execution_count": 2,
      "metadata": {
        "colab": {
          "base_uri": "https://localhost:8080/"
        },
        "id": "JSGRqqssQSOS",
        "outputId": "07bb2380-c618-46e7-966f-fc10df366ab9"
      },
      "outputs": [
        {
          "output_type": "stream",
          "name": "stdout",
          "text": [
            "Mounted at /content/drive\n",
            "/content/drive/My Drive/TCC Giulia/séries históricas 00-22\n"
          ]
        }
      ],
      "source": [
        "from google.colab import drive\n",
        "drive.mount('/content/drive')\n",
        "%cd \"/content/drive/My Drive/TCC Giulia/séries históricas 00-22/\""
      ],
      "id": "JSGRqqssQSOS"
    },
    {
      "cell_type": "code",
      "execution_count": 3,
      "metadata": {
        "id": "4IMKd7WTQNOl"
      },
      "outputs": [],
      "source": [
        "        \n",
        "def objective(x, a, b, rho, sigma, m):\n",
        "\treturn a + b*(rho*(x-m)+ np.sqrt((x-m)**2 + sigma**2))\n",
        "\n",
        "#def objective(x, a, b, c):\n",
        "#    return a * x + b * x**2 + c\n",
        "def my_function(x):\n",
        "  return list( dict.fromkeys(x) )"
      ],
      "id": "4IMKd7WTQNOl"
    },
    {
      "cell_type": "code",
      "execution_count": 4,
      "metadata": {
        "id": "kJm4nCDvCJbq"
      },
      "outputs": [],
      "source": [
        "a = pd.read_csv('Volatilidades_PETR_2911_2010.csv')"
      ],
      "id": "kJm4nCDvCJbq"
    },
    {
      "cell_type": "code",
      "execution_count": 5,
      "metadata": {
        "id": "7oKVNwGqzGv9"
      },
      "outputs": [],
      "source": [
        "a['NS'] = np.log(a['preco_exerc']/(a['spot']*(1+a['selic'])**(a[\"dias_ate_vencimento\"]/252)))"
      ],
      "id": "7oKVNwGqzGv9"
    },
    {
      "cell_type": "code",
      "execution_count": 6,
      "metadata": {
        "id": "Kes3qApU2Ink"
      },
      "outputs": [],
      "source": [
        "a['variancia'] = (a[\"dias_ate_vencimento\"]/252)*a['volatilidade']**2\n"
      ],
      "id": "Kes3qApU2Ink"
    },
    {
      "cell_type": "code",
      "execution_count": 7,
      "metadata": {
        "colab": {
          "base_uri": "https://localhost:8080/",
          "height": 354
        },
        "id": "2QOqNIhBsIey",
        "outputId": "11b306a9-fd92-4ffa-d758-357728a4a30a"
      },
      "outputs": [
        {
          "output_type": "execute_result",
          "data": {
            "text/plain": [
              "   Unnamed: 0          data_pregao cod_papel  preco_medio  \\\n",
              "0         289  2010-01-04 00:00:00   PETRA28         9.29   \n",
              "1         290  2010-01-04 00:00:00   PETRA30         7.58   \n",
              "2         291  2010-01-04 00:00:00   PETRA32         6.18   \n",
              "3         292  2010-01-04 00:00:00   PETRA34         3.84   \n",
              "4         293  2010-01-04 00:00:00   PETRA36         1.86   \n",
              "\n",
              "       data_vencimento  preco_exerc  cod_bdi espec_papel  spot   selic  \\\n",
              "0  2010-01-18 00:00:00        27.83       78          PN  37.1  0.0875   \n",
              "1  2010-01-18 00:00:00        29.66       78          PN  37.1  0.0875   \n",
              "2  2010-01-18 00:00:00        31.07       78          PN  37.1  0.0875   \n",
              "3  2010-01-18 00:00:00        33.41       78          PN  37.1  0.0875   \n",
              "4  2010-01-18 00:00:00        35.66       78          PN  37.1  0.0875   \n",
              "\n",
              "   dias_ate_vencimento  volatilidade        NS  variancia  status  \n",
              "0                   10      0.157355 -0.290831   0.000983       1  \n",
              "1                   10      0.584637 -0.227146   0.013564       1  \n",
              "2                   10      0.492117 -0.180703   0.009610       1  \n",
              "3                   10      0.308890 -0.108090   0.003786       1  \n",
              "4                   10      0.298680 -0.042916   0.003540       1  "
            ],
            "text/html": [
              "\n",
              "  <div id=\"df-019a3f06-368a-4e34-8a1f-dca73d97e788\">\n",
              "    <div class=\"colab-df-container\">\n",
              "      <div>\n",
              "<style scoped>\n",
              "    .dataframe tbody tr th:only-of-type {\n",
              "        vertical-align: middle;\n",
              "    }\n",
              "\n",
              "    .dataframe tbody tr th {\n",
              "        vertical-align: top;\n",
              "    }\n",
              "\n",
              "    .dataframe thead th {\n",
              "        text-align: right;\n",
              "    }\n",
              "</style>\n",
              "<table border=\"1\" class=\"dataframe\">\n",
              "  <thead>\n",
              "    <tr style=\"text-align: right;\">\n",
              "      <th></th>\n",
              "      <th>Unnamed: 0</th>\n",
              "      <th>data_pregao</th>\n",
              "      <th>cod_papel</th>\n",
              "      <th>preco_medio</th>\n",
              "      <th>data_vencimento</th>\n",
              "      <th>preco_exerc</th>\n",
              "      <th>cod_bdi</th>\n",
              "      <th>espec_papel</th>\n",
              "      <th>spot</th>\n",
              "      <th>selic</th>\n",
              "      <th>dias_ate_vencimento</th>\n",
              "      <th>volatilidade</th>\n",
              "      <th>NS</th>\n",
              "      <th>variancia</th>\n",
              "      <th>status</th>\n",
              "    </tr>\n",
              "  </thead>\n",
              "  <tbody>\n",
              "    <tr>\n",
              "      <th>0</th>\n",
              "      <td>289</td>\n",
              "      <td>2010-01-04 00:00:00</td>\n",
              "      <td>PETRA28</td>\n",
              "      <td>9.29</td>\n",
              "      <td>2010-01-18 00:00:00</td>\n",
              "      <td>27.83</td>\n",
              "      <td>78</td>\n",
              "      <td>PN</td>\n",
              "      <td>37.1</td>\n",
              "      <td>0.0875</td>\n",
              "      <td>10</td>\n",
              "      <td>0.157355</td>\n",
              "      <td>-0.290831</td>\n",
              "      <td>0.000983</td>\n",
              "      <td>1</td>\n",
              "    </tr>\n",
              "    <tr>\n",
              "      <th>1</th>\n",
              "      <td>290</td>\n",
              "      <td>2010-01-04 00:00:00</td>\n",
              "      <td>PETRA30</td>\n",
              "      <td>7.58</td>\n",
              "      <td>2010-01-18 00:00:00</td>\n",
              "      <td>29.66</td>\n",
              "      <td>78</td>\n",
              "      <td>PN</td>\n",
              "      <td>37.1</td>\n",
              "      <td>0.0875</td>\n",
              "      <td>10</td>\n",
              "      <td>0.584637</td>\n",
              "      <td>-0.227146</td>\n",
              "      <td>0.013564</td>\n",
              "      <td>1</td>\n",
              "    </tr>\n",
              "    <tr>\n",
              "      <th>2</th>\n",
              "      <td>291</td>\n",
              "      <td>2010-01-04 00:00:00</td>\n",
              "      <td>PETRA32</td>\n",
              "      <td>6.18</td>\n",
              "      <td>2010-01-18 00:00:00</td>\n",
              "      <td>31.07</td>\n",
              "      <td>78</td>\n",
              "      <td>PN</td>\n",
              "      <td>37.1</td>\n",
              "      <td>0.0875</td>\n",
              "      <td>10</td>\n",
              "      <td>0.492117</td>\n",
              "      <td>-0.180703</td>\n",
              "      <td>0.009610</td>\n",
              "      <td>1</td>\n",
              "    </tr>\n",
              "    <tr>\n",
              "      <th>3</th>\n",
              "      <td>292</td>\n",
              "      <td>2010-01-04 00:00:00</td>\n",
              "      <td>PETRA34</td>\n",
              "      <td>3.84</td>\n",
              "      <td>2010-01-18 00:00:00</td>\n",
              "      <td>33.41</td>\n",
              "      <td>78</td>\n",
              "      <td>PN</td>\n",
              "      <td>37.1</td>\n",
              "      <td>0.0875</td>\n",
              "      <td>10</td>\n",
              "      <td>0.308890</td>\n",
              "      <td>-0.108090</td>\n",
              "      <td>0.003786</td>\n",
              "      <td>1</td>\n",
              "    </tr>\n",
              "    <tr>\n",
              "      <th>4</th>\n",
              "      <td>293</td>\n",
              "      <td>2010-01-04 00:00:00</td>\n",
              "      <td>PETRA36</td>\n",
              "      <td>1.86</td>\n",
              "      <td>2010-01-18 00:00:00</td>\n",
              "      <td>35.66</td>\n",
              "      <td>78</td>\n",
              "      <td>PN</td>\n",
              "      <td>37.1</td>\n",
              "      <td>0.0875</td>\n",
              "      <td>10</td>\n",
              "      <td>0.298680</td>\n",
              "      <td>-0.042916</td>\n",
              "      <td>0.003540</td>\n",
              "      <td>1</td>\n",
              "    </tr>\n",
              "  </tbody>\n",
              "</table>\n",
              "</div>\n",
              "      <button class=\"colab-df-convert\" onclick=\"convertToInteractive('df-019a3f06-368a-4e34-8a1f-dca73d97e788')\"\n",
              "              title=\"Convert this dataframe to an interactive table.\"\n",
              "              style=\"display:none;\">\n",
              "        \n",
              "  <svg xmlns=\"http://www.w3.org/2000/svg\" height=\"24px\"viewBox=\"0 0 24 24\"\n",
              "       width=\"24px\">\n",
              "    <path d=\"M0 0h24v24H0V0z\" fill=\"none\"/>\n",
              "    <path d=\"M18.56 5.44l.94 2.06.94-2.06 2.06-.94-2.06-.94-.94-2.06-.94 2.06-2.06.94zm-11 1L8.5 8.5l.94-2.06 2.06-.94-2.06-.94L8.5 2.5l-.94 2.06-2.06.94zm10 10l.94 2.06.94-2.06 2.06-.94-2.06-.94-.94-2.06-.94 2.06-2.06.94z\"/><path d=\"M17.41 7.96l-1.37-1.37c-.4-.4-.92-.59-1.43-.59-.52 0-1.04.2-1.43.59L10.3 9.45l-7.72 7.72c-.78.78-.78 2.05 0 2.83L4 21.41c.39.39.9.59 1.41.59.51 0 1.02-.2 1.41-.59l7.78-7.78 2.81-2.81c.8-.78.8-2.07 0-2.86zM5.41 20L4 18.59l7.72-7.72 1.47 1.35L5.41 20z\"/>\n",
              "  </svg>\n",
              "      </button>\n",
              "      \n",
              "  <style>\n",
              "    .colab-df-container {\n",
              "      display:flex;\n",
              "      flex-wrap:wrap;\n",
              "      gap: 12px;\n",
              "    }\n",
              "\n",
              "    .colab-df-convert {\n",
              "      background-color: #E8F0FE;\n",
              "      border: none;\n",
              "      border-radius: 50%;\n",
              "      cursor: pointer;\n",
              "      display: none;\n",
              "      fill: #1967D2;\n",
              "      height: 32px;\n",
              "      padding: 0 0 0 0;\n",
              "      width: 32px;\n",
              "    }\n",
              "\n",
              "    .colab-df-convert:hover {\n",
              "      background-color: #E2EBFA;\n",
              "      box-shadow: 0px 1px 2px rgba(60, 64, 67, 0.3), 0px 1px 3px 1px rgba(60, 64, 67, 0.15);\n",
              "      fill: #174EA6;\n",
              "    }\n",
              "\n",
              "    [theme=dark] .colab-df-convert {\n",
              "      background-color: #3B4455;\n",
              "      fill: #D2E3FC;\n",
              "    }\n",
              "\n",
              "    [theme=dark] .colab-df-convert:hover {\n",
              "      background-color: #434B5C;\n",
              "      box-shadow: 0px 1px 3px 1px rgba(0, 0, 0, 0.15);\n",
              "      filter: drop-shadow(0px 1px 2px rgba(0, 0, 0, 0.3));\n",
              "      fill: #FFFFFF;\n",
              "    }\n",
              "  </style>\n",
              "\n",
              "      <script>\n",
              "        const buttonEl =\n",
              "          document.querySelector('#df-019a3f06-368a-4e34-8a1f-dca73d97e788 button.colab-df-convert');\n",
              "        buttonEl.style.display =\n",
              "          google.colab.kernel.accessAllowed ? 'block' : 'none';\n",
              "\n",
              "        async function convertToInteractive(key) {\n",
              "          const element = document.querySelector('#df-019a3f06-368a-4e34-8a1f-dca73d97e788');\n",
              "          const dataTable =\n",
              "            await google.colab.kernel.invokeFunction('convertToInteractive',\n",
              "                                                     [key], {});\n",
              "          if (!dataTable) return;\n",
              "\n",
              "          const docLinkHtml = 'Like what you see? Visit the ' +\n",
              "            '<a target=\"_blank\" href=https://colab.research.google.com/notebooks/data_table.ipynb>data table notebook</a>'\n",
              "            + ' to learn more about interactive tables.';\n",
              "          element.innerHTML = '';\n",
              "          dataTable['output_type'] = 'display_data';\n",
              "          await google.colab.output.renderOutput(dataTable, element);\n",
              "          const docLink = document.createElement('div');\n",
              "          docLink.innerHTML = docLinkHtml;\n",
              "          element.appendChild(docLink);\n",
              "        }\n",
              "      </script>\n",
              "    </div>\n",
              "  </div>\n",
              "  "
            ]
          },
          "metadata": {},
          "execution_count": 7
        }
      ],
      "source": [
        "def my_func(x):\n",
        "    if x['cod_bdi'] ==78 and x['preco_exerc'] > x['spot']:\n",
        "        val = -1\n",
        "    elif x[\"cod_bdi\"] == 82 and x['preco_exerc'] < x['spot']:\n",
        "        val = -1\n",
        "    else:\n",
        "        val = 1\n",
        "    return val\n",
        "\n",
        "a['status'] = a.apply(my_func, axis=1)\n",
        "a = a[a['status'] > 0]\n",
        "\n",
        "a.head()"
      ],
      "id": "2QOqNIhBsIey"
    },
    {
      "cell_type": "code",
      "execution_count": 8,
      "metadata": {
        "id": "Qv26blixtkum"
      },
      "outputs": [],
      "source": [
        "a = a[a['status'] > 0]"
      ],
      "id": "Qv26blixtkum"
    },
    {
      "cell_type": "code",
      "execution_count": 9,
      "metadata": {
        "id": "HVjzOvCiRUeI"
      },
      "outputs": [],
      "source": [
        "def func(parameters, *data):\n",
        "\n",
        "    #we have 3 parameters which will be passed as parameters and\n",
        "    #\"experimental\" x,y which will be passed as data\n",
        "\n",
        "    alpha, beta, rho, sigma, m = parameters\n",
        "    x,y = data\n",
        "\n",
        "\n",
        "    result = 0\n",
        "\n",
        "    for i in range(len(x)):\n",
        "        result += (alpha + beta * (rho * (x[i] - m) + np.sqrt((x[i] - m)**2 + sigma**2)) - y[i])**2\n",
        "    return result"
      ],
      "id": "HVjzOvCiRUeI"
    },
    {
      "cell_type": "code",
      "execution_count": 10,
      "metadata": {
        "colab": {
          "base_uri": "https://localhost:8080/",
          "height": 1000
        },
        "id": "17b41a00-efbe-44b5-9654-ed8cf0a9236f",
        "outputId": "cc13b27d-46a4-4943-94cd-14ed0515de89"
      },
      "outputs": [
        {
          "output_type": "stream",
          "name": "stdout",
          "text": [
            "3.6029443259718166e-06 0.007786830386580289 -0.902434274931263 0.000687692443534312 0.2191339803172396\n"
          ]
        },
        {
          "output_type": "display_data",
          "data": {
            "text/plain": [
              "<Figure size 360x360 with 1 Axes>"
            ],
            "image/png": "[encoded data removed]"
          },
          "metadata": {
            "needs_background": "light"
          }
        },
        {
          "output_type": "stream",
          "name": "stdout",
          "text": [
            "0.008174369800222809 0.032452223957251954 -0.9689372644841902 0.008010454345746034 -0.05948874862035707\n"
          ]
        },
        {
          "output_type": "display_data",
          "data": {
            "text/plain": [
              "<Figure size 360x360 with 1 Axes>"
            ],
            "image/png": "[encoded data removed]"
          },
          "metadata": {
            "needs_background": "light"
          }
        },
        {
          "output_type": "stream",
          "name": "stdout",
          "text": [
            "0.01693989155654632 0.015747343166854298 -0.8238378937765817 0.18213445251358804 -0.05925579904434719\n"
          ]
        },
        {
          "output_type": "display_data",
          "data": {
            "text/plain": [
              "<Figure size 360x360 with 1 Axes>"
            ],
            "image/png": "[encoded data removed]"
          },
          "metadata": {
            "needs_background": "light"
          }
        }
      ],
      "source": [
        "#teste para uma data específica\n",
        "c = a[a['data_pregao']== '2010-01-05 00:00:00']\n",
        "tenors = my_function(c['dias_ate_vencimento'].to_list())\n",
        "tenors.sort()\n",
        "x = np.linspace(-0.4, 0.4, 50, endpoint=True)\n",
        "for tenor in tenors:\n",
        "    result = 0\n",
        "    d = c[c['dias_ate_vencimento']== tenor]\n",
        "    if(tenor>0 and len(d['NS'].to_list()) > 2):\n",
        "        y1 = d['variancia'].to_list()\n",
        "        x1 = d['NS'].to_list()\n",
        "\n",
        "        y = np.interp(x, x1, y1)\n",
        "\n",
        "        bounds = [(0., max(y)), (0.,4/(tenor/252)), (-1, 1),      (1e-5, 5), (np.min(x), np.max(x))]\n",
        "        \n",
        "        args = (x,y)\n",
        "\n",
        "        result = differential_evolution(func, bounds, args=args)\n",
        "        alpha,beta,rho,sigma, m = result.x\n",
        "        \n",
        "        print(alpha,beta,rho,sigma, m)\n",
        "        plt.figure(figsize=(5, 5))\n",
        "\n",
        "        # define a sequence of inputs between the smallest and largest known inputs\n",
        "\n",
        "        # calculate the output for the range\n",
        "        y2 = alpha + beta * (rho * (x - m) + np.sqrt((x - m)**2 + sigma**2))\n",
        "\n",
        "        colors = ['crimson', 'steelblue', 'seagreen']\n",
        "\n",
        "        plt.scatter(x1,y1, label='Experimental Data', color = colors[0])\n",
        "        plt.scatter(x,y2, label='Fitting', color = colors[1])\n",
        "\n",
        "        plt.title(\"SVI para 20Apr2015 - PETR4 - tenor \" + str(tenor) + \" - Número de strikes: \" + str(len(x1)))\n",
        "        plt.ylabel(\"Volatilidade\")\n",
        "        plt.xlabel(\"Log-Forward Moneyness\")\n",
        "        plt.legend()\n",
        "        plt.show()"
      ],
      "id": "17b41a00-efbe-44b5-9654-ed8cf0a9236f"
    },
    {
      "cell_type": "code",
      "execution_count": 11,
      "metadata": {
        "id": "3f2df321-c7b4-4b48-8ae7-a6faf65e369f"
      },
      "outputs": [],
      "source": [
        "mylist = my_function(a['data_pregao'].to_list())\n",
        "#mylist = [\"2010-01-05 00:00:00\"]\n",
        "lista_parâmetros = []\n",
        "matriz_tenors = []\n",
        "lista_tenor = []\n",
        "lista_tenors_final =[]\n",
        "last_popt = []\n",
        "date_list = []\n",
        "x = np.linspace(-0.4, 0.4, 50, endpoint=True)\n",
        "for day in mylist:\n",
        "    lista_tenor = []\n",
        "    lista_param_tenor = []\n",
        "    c = a[a['data_pregao']== day]\n",
        "    tenors = my_function(c['dias_ate_vencimento'].to_list())\n",
        "    tenors.sort()\n",
        "    count = 0\n",
        "    for tenor in tenors:\n",
        "        d = c[c['dias_ate_vencimento']== tenor]\n",
        "        if(tenor > 0 and len(d['data_pregao'].to_list())>2):\n",
        "            y1 = d['variancia'].to_list()\n",
        "            x1 = d['NS'].to_list()\n",
        "\n",
        "            y = np.interp(x, x1, y1)\n",
        "\n",
        "            bounds = [(0., np.max(y)), (0.,4/(tenor/252)), (-0.7, 0.7),      (1e-5, 2), (np.min(x), np.max(x))]\n",
        "            args = (x,y)\n",
        "\n",
        "            result = differential_evolution(func, bounds, args=args)\n",
        "\n",
        "            alpha,beta,rho,sigma, m= result.x\n",
        "\n",
        "            # define a sequence of inputs between the smallest and largest known inputs\n",
        "\n",
        "            # calculate the output for the range\n",
        "            lista_param_tenor.append([alpha, beta, rho, sigma, m])\n",
        "            lista_tenor.append(tenor)\n",
        "            if count == 0:\n",
        "              date_list.append(day)\n",
        "            count += 1        \n",
        "    lista_tenors_final.append(lista_tenor)\n",
        "    lista_parâmetros.append(lista_param_tenor)"
      ],
      "id": "3f2df321-c7b4-4b48-8ae7-a6faf65e369f"
    },
    {
      "cell_type": "code",
      "execution_count": 15,
      "metadata": {
        "id": "1b948afb-5838-4f5b-952a-d398a0998990"
      },
      "outputs": [],
      "source": [
        "interpolacao = [7, 14, 21,  30, 60]\n",
        "lista_alpha = []\n",
        "lista_beta = []\n",
        "lista_rho = []\n",
        "lista_sigma = []\n",
        "lista_m = []\n",
        "lista_a_7dias = []\n",
        "lista_b_7dias=[]\n",
        "lista_rho_7dias=[]\n",
        "lista_sigma_7dias=[]\n",
        "lista_m_7dias=[]\n",
        "\n",
        "lista_a_14dias = []\n",
        "lista_b_14dias=[]\n",
        "lista_rho_14dias=[]\n",
        "lista_sigma_14dias=[]\n",
        "lista_m_14dias=[]\n",
        "\n",
        "lista_a_21dias = []\n",
        "lista_b_21dias=[]\n",
        "lista_rho_21dias=[]\n",
        "lista_sigma_21dias=[]\n",
        "lista_m_21dias=[]\n",
        "\n",
        "lista_a_30dias = []\n",
        "lista_b_30dias=[]\n",
        "lista_rho_30dias=[]\n",
        "lista_sigma_30dias=[]\n",
        "lista_m_30dias=[]\n",
        "\n",
        "lista_a_60dias = []\n",
        "lista_b_60dias=[]\n",
        "lista_rho_60dias=[]\n",
        "lista_sigma_60dias=[]\n",
        "lista_m_60dias=[]\n",
        "\n",
        "\n",
        "new_data = []\n",
        "for i in range(len(lista_parâmetros)):\n",
        "    lista_alpha = []\n",
        "    lista_beta = []\n",
        "    lista_rho = []\n",
        "    lista_sigma = []\n",
        "    lista_m = []\n",
        "    for lista in lista_parâmetros[i]:\n",
        "        lista_alpha.append(lista[0])\n",
        "        lista_beta.append(lista[1])\n",
        "        lista_rho.append(lista[2])\n",
        "        lista_sigma.append(lista[3])\n",
        "        lista_m.append(lista[4])\n",
        "    try:\n",
        "        lista_a_interpolada = np.interp(interpolacao, lista_tenors_final[i], lista_alpha)\n",
        "        lista_b_interpolada = np.interp(interpolacao, lista_tenors_final[i], lista_beta)\n",
        "        lista_rho_interpolada = np.interp(interpolacao, lista_tenors_final[i], lista_rho)\n",
        "        lista_sigma_interpolada = np.interp(interpolacao, lista_tenors_final[i], lista_sigma)\n",
        "        lista_m_interpolada = np.interp(interpolacao, lista_tenors_final[i], lista_m)\n",
        "        lista_a_7dias.append(lista_a_interpolada[0])\n",
        "        lista_b_7dias.append(lista_b_interpolada[0])\n",
        "        lista_rho_7dias.append(lista_rho_interpolada[0])\n",
        "        lista_sigma_7dias.append(lista_sigma_interpolada[0])\n",
        "        lista_m_7dias.append(lista_m_interpolada[0])\n",
        "\n",
        "        lista_a_14dias.append(lista_a_interpolada[1])\n",
        "        lista_b_14dias.append(lista_b_interpolada[1])\n",
        "        lista_rho_14dias.append(lista_rho_interpolada[1])\n",
        "        lista_sigma_14dias.append(lista_sigma_interpolada[1])\n",
        "        lista_m_14dias.append(lista_m_interpolada[1])\n",
        "\n",
        "        lista_a_21dias.append(lista_a_interpolada[2])\n",
        "        lista_b_21dias.append(lista_b_interpolada[2])\n",
        "        lista_rho_21dias.append(lista_rho_interpolada[2])\n",
        "        lista_sigma_21dias.append(lista_sigma_interpolada[2])\n",
        "        lista_m_21dias.append(lista_m_interpolada[2])\n",
        "\n",
        "        lista_a_30dias.append(lista_a_interpolada[3])\n",
        "        lista_b_30dias.append(lista_b_interpolada[3])\n",
        "        lista_rho_30dias.append(lista_rho_interpolada[3])\n",
        "        lista_sigma_30dias.append(lista_sigma_interpolada[3])\n",
        "        lista_m_30dias.append(lista_m_interpolada[3])\n",
        "\n",
        "        lista_a_60dias.append(lista_a_interpolada[4])\n",
        "        lista_b_60dias.append(lista_b_interpolada[4])\n",
        "        lista_rho_60dias.append(lista_rho_interpolada[4])\n",
        "        lista_sigma_60dias.append(lista_sigma_interpolada[4])\n",
        "        lista_m_60dias.append(lista_m_interpolada[4])\n",
        "\n",
        "\n",
        "        new_data.append(mylist[i])\n",
        "    except:\n",
        "        pass\n",
        "    "
      ],
      "id": "1b948afb-5838-4f5b-952a-d398a0998990"
    },
    {
      "cell_type": "code",
      "execution_count": 25,
      "metadata": {
        "id": "7g67HsbafYRw"
      },
      "outputs": [],
      "source": [
        "lista_7 = []\n",
        "lista_14 = []\n",
        "lista_21 = []\n",
        "lista_30 = []\n",
        "lista_60 = []\n",
        "for i in range(len(date_list)):\n",
        "  lista_7.append(7)\n",
        "  lista_14.append(14)\n",
        "  lista_21.append(21)\n",
        "  lista_30.append(30)\n",
        "  lista_60.append(60)\n",
        "\n",
        "lista_a = lista_a_7dias + lista_a_14dias + lista_a_21dias + lista_a_30dias + lista_a_60dias\n",
        "lista_b = lista_b_7dias + lista_b_14dias + lista_b_21dias + lista_b_30dias + lista_b_60dias\n",
        "lista_rho = lista_rho_7dias + lista_rho_14dias + lista_rho_21dias + lista_rho_30dias + lista_rho_60dias\n",
        "lista_sigma = lista_sigma_7dias + lista_sigma_14dias + lista_sigma_21dias + lista_sigma_30dias + lista_sigma_60dias\n",
        "lista_m = lista_m_7dias + lista_m_14dias + lista_m_21dias + lista_m_30dias + lista_m_60dias\n",
        "\n",
        "data_final = date_list + date_list + date_list + date_list + date_list\n",
        "dias = lista_7 + lista_14 + lista_21 + lista_30 + lista_60\n",
        "\n",
        "dict_to_be_saved = {'a': lista_a,\n",
        "                    'b': lista_b,\n",
        "                    'rho': lista_rho,\n",
        "                    'sigma': lista_sigma,\n",
        "                    'm': lista_m,\n",
        "                    'date': data_final,\n",
        "                    'dias': dias \n",
        "}\n",
        "\n",
        "dados_interpolados2 = pd.DataFrame.from_dict(dict_to_be_saved)\n",
        "dados_interpolados2 = dados_interpolados2.sort_values(by=\"date\")\n",
        "multi = dados_interpolados2.set_index(['date', 'dias'])\n",
        "\n",
        "multi.to_csv(\"DadosPivoteados_PETR_2010_20.csv\")"
      ],
      "id": "7g67HsbafYRw"
    },
    {
      "cell_type": "code",
      "source": [
        "multi.to_csv(\"DadosPivoteados_PETR_2010_09.csv\")"
      ],
      "metadata": {
        "id": "SmSqscuHNNxM"
      },
      "id": "SmSqscuHNNxM",
      "execution_count": 14,
      "outputs": []
    },
    {
      "cell_type": "code",
      "execution_count": 17,
      "metadata": {
        "colab": {
          "base_uri": "https://localhost:8080/",
          "height": 313
        },
        "id": "6c586d4d-6999-45ef-9a4f-5332a2f1dd9b",
        "outputId": "e0fb98e8-c736-42e4-a871-443b3647102d"
      },
      "outputs": [
        {
          "output_type": "execute_result",
          "data": {
            "text/plain": [
              "Text(0.5, 1.0, 'Parameter a')"
            ]
          },
          "metadata": {},
          "execution_count": 17
        },
        {
          "output_type": "display_data",
          "data": {
            "text/plain": [
              "<Figure size 432x288 with 1 Axes>"
            ],
            "image/png": "[encoded data removed]"
          },
          "metadata": {
            "needs_background": "light"
          }
        }
      ],
      "source": [
        "import matplotlib.pyplot as plt\n",
        "#plt.plot(lista_a_7dias)\n",
        "\n",
        "#plt.xlabel('Days')\n",
        "#plt.title('Parameter a')\n",
        "\n",
        "plt.plot(lista_a_7dias)\n",
        "plt.plot(lista_a_14dias)\n",
        "plt.xlabel('Days')\n",
        "plt.title('Parameter a')\n"
      ],
      "id": "6c586d4d-6999-45ef-9a4f-5332a2f1dd9b"
    },
    {
      "cell_type": "code",
      "execution_count": 18,
      "metadata": {
        "colab": {
          "base_uri": "https://localhost:8080/",
          "height": 313
        },
        "id": "JtlO0d8cbUK4",
        "outputId": "895e52e5-96fb-431b-9418-635755fd538e"
      },
      "outputs": [
        {
          "output_type": "execute_result",
          "data": {
            "text/plain": [
              "Text(0.5, 1.0, 'Parameter rho')"
            ]
          },
          "metadata": {},
          "execution_count": 18
        },
        {
          "output_type": "display_data",
          "data": {
            "text/plain": [
              "<Figure size 432x288 with 1 Axes>"
            ],
            "image/png": "[encoded data removed]"
          },
          "metadata": {
            "needs_background": "light"
          }
        }
      ],
      "source": [
        "\n",
        "plt.plot(lista_rho_14dias)\n",
        "\n",
        "\n",
        "plt.xlabel('Days')\n",
        "plt.title('Parameter rho')"
      ],
      "id": "JtlO0d8cbUK4"
    },
    {
      "cell_type": "code",
      "source": [
        "multi"
      ],
      "metadata": {
        "colab": {
          "base_uri": "https://localhost:8080/",
          "height": 455
        },
        "id": "urKYUMt_vFZV",
        "outputId": "08c6e3e6-68bd-4fe3-ffe0-c615c5d62284"
      },
      "id": "urKYUMt_vFZV",
      "execution_count": 24,
      "outputs": [
        {
          "output_type": "execute_result",
          "data": {
            "text/plain": [
              "                                 a         b       rho     sigma         m\n",
              "date                dias                                                  \n",
              "2010-01-04 00:00:00 7     0.002905  0.002125 -0.354691  0.024626  0.328725\n",
              "                    21    0.006620  0.013228 -0.311017  0.055650  0.224273\n",
              "                    30    0.009783  0.025314 -0.376108  0.067674  0.150707\n",
              "                    60    0.017030  0.057507 -0.700000  0.070643  0.008371\n",
              "                    14    0.004256  0.006162 -0.338809  0.035908  0.290742\n",
              "...                            ...       ...       ...       ...       ...\n",
              "2022-09-09 00:00:00 30    0.031184  0.006801  0.092475  0.000385 -0.366225\n",
              "                    14    0.011088  0.043289  0.488305  0.004233 -0.076711\n",
              "                    7     0.002464  0.060692  0.652957  0.006204  0.074157\n",
              "                    21    0.019712  0.025886  0.323653  0.002262 -0.227579\n",
              "                    60    0.022561  0.032796  0.231490  1.004979 -0.183596\n",
              "\n",
              "[15710 rows x 5 columns]"
            ],
            "text/html": [
              "\n",
              "  <div id=\"df-61ed527d-0b74-4d6d-aa3c-6be2d853003e\">\n",
              "    <div class=\"colab-df-container\">\n",
              "      <div>\n",
              "<style scoped>\n",
              "    .dataframe tbody tr th:only-of-type {\n",
              "        vertical-align: middle;\n",
              "    }\n",
              "\n",
              "    .dataframe tbody tr th {\n",
              "        vertical-align: top;\n",
              "    }\n",
              "\n",
              "    .dataframe thead th {\n",
              "        text-align: right;\n",
              "    }\n",
              "</style>\n",
              "<table border=\"1\" class=\"dataframe\">\n",
              "  <thead>\n",
              "    <tr style=\"text-align: right;\">\n",
              "      <th></th>\n",
              "      <th></th>\n",
              "      <th>a</th>\n",
              "      <th>b</th>\n",
              "      <th>rho</th>\n",
              "      <th>sigma</th>\n",
              "      <th>m</th>\n",
              "    </tr>\n",
              "    <tr>\n",
              "      <th>date</th>\n",
              "      <th>dias</th>\n",
              "      <th></th>\n",
              "      <th></th>\n",
              "      <th></th>\n",
              "      <th></th>\n",
              "      <th></th>\n",
              "    </tr>\n",
              "  </thead>\n",
              "  <tbody>\n",
              "    <tr>\n",
              "      <th rowspan=\"5\" valign=\"top\">2010-01-04 00:00:00</th>\n",
              "      <th>7</th>\n",
              "      <td>0.002905</td>\n",
              "      <td>0.002125</td>\n",
              "      <td>-0.354691</td>\n",
              "      <td>0.024626</td>\n",
              "      <td>0.328725</td>\n",
              "    </tr>\n",
              "    <tr>\n",
              "      <th>21</th>\n",
              "      <td>0.006620</td>\n",
              "      <td>0.013228</td>\n",
              "      <td>-0.311017</td>\n",
              "      <td>0.055650</td>\n",
              "      <td>0.224273</td>\n",
              "    </tr>\n",
              "    <tr>\n",
              "      <th>30</th>\n",
              "      <td>0.009783</td>\n",
              "      <td>0.025314</td>\n",
              "      <td>-0.376108</td>\n",
              "      <td>0.067674</td>\n",
              "      <td>0.150707</td>\n",
              "    </tr>\n",
              "    <tr>\n",
              "      <th>60</th>\n",
              "      <td>0.017030</td>\n",
              "      <td>0.057507</td>\n",
              "      <td>-0.700000</td>\n",
              "      <td>0.070643</td>\n",
              "      <td>0.008371</td>\n",
              "    </tr>\n",
              "    <tr>\n",
              "      <th>14</th>\n",
              "      <td>0.004256</td>\n",
              "      <td>0.006162</td>\n",
              "      <td>-0.338809</td>\n",
              "      <td>0.035908</td>\n",
              "      <td>0.290742</td>\n",
              "    </tr>\n",
              "    <tr>\n",
              "      <th>...</th>\n",
              "      <th>...</th>\n",
              "      <td>...</td>\n",
              "      <td>...</td>\n",
              "      <td>...</td>\n",
              "      <td>...</td>\n",
              "      <td>...</td>\n",
              "    </tr>\n",
              "    <tr>\n",
              "      <th rowspan=\"5\" valign=\"top\">2022-09-09 00:00:00</th>\n",
              "      <th>30</th>\n",
              "      <td>0.031184</td>\n",
              "      <td>0.006801</td>\n",
              "      <td>0.092475</td>\n",
              "      <td>0.000385</td>\n",
              "      <td>-0.366225</td>\n",
              "    </tr>\n",
              "    <tr>\n",
              "      <th>14</th>\n",
              "      <td>0.011088</td>\n",
              "      <td>0.043289</td>\n",
              "      <td>0.488305</td>\n",
              "      <td>0.004233</td>\n",
              "      <td>-0.076711</td>\n",
              "    </tr>\n",
              "    <tr>\n",
              "      <th>7</th>\n",
              "      <td>0.002464</td>\n",
              "      <td>0.060692</td>\n",
              "      <td>0.652957</td>\n",
              "      <td>0.006204</td>\n",
              "      <td>0.074157</td>\n",
              "    </tr>\n",
              "    <tr>\n",
              "      <th>21</th>\n",
              "      <td>0.019712</td>\n",
              "      <td>0.025886</td>\n",
              "      <td>0.323653</td>\n",
              "      <td>0.002262</td>\n",
              "      <td>-0.227579</td>\n",
              "    </tr>\n",
              "    <tr>\n",
              "      <th>60</th>\n",
              "      <td>0.022561</td>\n",
              "      <td>0.032796</td>\n",
              "      <td>0.231490</td>\n",
              "      <td>1.004979</td>\n",
              "      <td>-0.183596</td>\n",
              "    </tr>\n",
              "  </tbody>\n",
              "</table>\n",
              "<p>15710 rows × 5 columns</p>\n",
              "</div>\n",
              "      <button class=\"colab-df-convert\" onclick=\"convertToInteractive('df-61ed527d-0b74-4d6d-aa3c-6be2d853003e')\"\n",
              "              title=\"Convert this dataframe to an interactive table.\"\n",
              "              style=\"display:none;\">\n",
              "        \n",
              "  <svg xmlns=\"http://www.w3.org/2000/svg\" height=\"24px\"viewBox=\"0 0 24 24\"\n",
              "       width=\"24px\">\n",
              "    <path d=\"M0 0h24v24H0V0z\" fill=\"none\"/>\n",
              "    <path d=\"M18.56 5.44l.94 2.06.94-2.06 2.06-.94-2.06-.94-.94-2.06-.94 2.06-2.06.94zm-11 1L8.5 8.5l.94-2.06 2.06-.94-2.06-.94L8.5 2.5l-.94 2.06-2.06.94zm10 10l.94 2.06.94-2.06 2.06-.94-2.06-.94-.94-2.06-.94 2.06-2.06.94z\"/><path d=\"M17.41 7.96l-1.37-1.37c-.4-.4-.92-.59-1.43-.59-.52 0-1.04.2-1.43.59L10.3 9.45l-7.72 7.72c-.78.78-.78 2.05 0 2.83L4 21.41c.39.39.9.59 1.41.59.51 0 1.02-.2 1.41-.59l7.78-7.78 2.81-2.81c.8-.78.8-2.07 0-2.86zM5.41 20L4 18.59l7.72-7.72 1.47 1.35L5.41 20z\"/>\n",
              "  </svg>\n",
              "      </button>\n",
              "      \n",
              "  <style>\n",
              "    .colab-df-container {\n",
              "      display:flex;\n",
              "      flex-wrap:wrap;\n",
              "      gap: 12px;\n",
              "    }\n",
              "\n",
              "    .colab-df-convert {\n",
              "      background-color: #E8F0FE;\n",
              "      border: none;\n",
              "      border-radius: 50%;\n",
              "      cursor: pointer;\n",
              "      display: none;\n",
              "      fill: #1967D2;\n",
              "      height: 32px;\n",
              "      padding: 0 0 0 0;\n",
              "      width: 32px;\n",
              "    }\n",
              "\n",
              "    .colab-df-convert:hover {\n",
              "      background-color: #E2EBFA;\n",
              "      box-shadow: 0px 1px 2px rgba(60, 64, 67, 0.3), 0px 1px 3px 1px rgba(60, 64, 67, 0.15);\n",
              "      fill: #174EA6;\n",
              "    }\n",
              "\n",
              "    [theme=dark] .colab-df-convert {\n",
              "      background-color: #3B4455;\n",
              "      fill: #D2E3FC;\n",
              "    }\n",
              "\n",
              "    [theme=dark] .colab-df-convert:hover {\n",
              "      background-color: #434B5C;\n",
              "      box-shadow: 0px 1px 3px 1px rgba(0, 0, 0, 0.15);\n",
              "      filter: drop-shadow(0px 1px 2px rgba(0, 0, 0, 0.3));\n",
              "      fill: #FFFFFF;\n",
              "    }\n",
              "  </style>\n",
              "\n",
              "      <script>\n",
              "        const buttonEl =\n",
              "          document.querySelector('#df-61ed527d-0b74-4d6d-aa3c-6be2d853003e button.colab-df-convert');\n",
              "        buttonEl.style.display =\n",
              "          google.colab.kernel.accessAllowed ? 'block' : 'none';\n",
              "\n",
              "        async function convertToInteractive(key) {\n",
              "          const element = document.querySelector('#df-61ed527d-0b74-4d6d-aa3c-6be2d853003e');\n",
              "          const dataTable =\n",
              "            await google.colab.kernel.invokeFunction('convertToInteractive',\n",
              "                                                     [key], {});\n",
              "          if (!dataTable) return;\n",
              "\n",
              "          const docLinkHtml = 'Like what you see? Visit the ' +\n",
              "            '<a target=\"_blank\" href=https://colab.research.google.com/notebooks/data_table.ipynb>data table notebook</a>'\n",
              "            + ' to learn more about interactive tables.';\n",
              "          element.innerHTML = '';\n",
              "          dataTable['output_type'] = 'display_data';\n",
              "          await google.colab.output.renderOutput(dataTable, element);\n",
              "          const docLink = document.createElement('div');\n",
              "          docLink.innerHTML = docLinkHtml;\n",
              "          element.appendChild(docLink);\n",
              "        }\n",
              "      </script>\n",
              "    </div>\n",
              "  </div>\n",
              "  "
            ]
          },
          "metadata": {},
          "execution_count": 24
        }
      ]
    },
    {
      "cell_type": "code",
      "execution_count": 19,
      "metadata": {
        "colab": {
          "base_uri": "https://localhost:8080/",
          "height": 313
        },
        "id": "u6NPGOJ6bsmb",
        "outputId": "a43aded5-5fc8-43cd-dbc6-00d4a8c8cb7a"
      },
      "outputs": [
        {
          "output_type": "execute_result",
          "data": {
            "text/plain": [
              "Text(0.5, 1.0, 'Parameter b')"
            ]
          },
          "metadata": {},
          "execution_count": 19
        },
        {
          "output_type": "display_data",
          "data": {
            "text/plain": [
              "<Figure size 432x288 with 1 Axes>"
            ],
            "image/png": "[encoded data removed]"
          },
          "metadata": {
            "needs_background": "light"
          }
        }
      ],
      "source": [
        "\n",
        "plt.plot(lista_b_14dias)\n",
        "plt.xlabel('Days')\n",
        "plt.title('Parameter b')"
      ],
      "id": "u6NPGOJ6bsmb"
    },
    {
      "cell_type": "code",
      "execution_count": 20,
      "metadata": {
        "colab": {
          "base_uri": "https://localhost:8080/",
          "height": 313
        },
        "id": "f_HXP_Wsq9-s",
        "outputId": "6e534804-c3e1-432e-915f-206eaa9f076d"
      },
      "outputs": [
        {
          "output_type": "execute_result",
          "data": {
            "text/plain": [
              "Text(0.5, 1.0, 'Parameter m')"
            ]
          },
          "metadata": {},
          "execution_count": 20
        },
        {
          "output_type": "display_data",
          "data": {
            "text/plain": [
              "<Figure size 432x288 with 1 Axes>"
            ],
            "image/png": "[encoded data removed]"
          },
          "metadata": {
            "needs_background": "light"
          }
        }
      ],
      "source": [
        "plt.plot(lista_m_7dias)\n",
        "plt.plot(lista_m_14dias)\n",
        "plt.plot(lista_m_30dias)\n",
        "plt.plot(lista_m_60dias)\n",
        "plt.xlabel('Days')\n",
        "plt.title('Parameter m')"
      ],
      "id": "f_HXP_Wsq9-s"
    },
    {
      "cell_type": "code",
      "execution_count": 21,
      "metadata": {
        "colab": {
          "base_uri": "https://localhost:8080/",
          "height": 313
        },
        "id": "NoTRvFSdq_iE",
        "outputId": "f85d48de-e286-4f30-d4eb-e761f1fe7e8c"
      },
      "outputs": [
        {
          "output_type": "execute_result",
          "data": {
            "text/plain": [
              "Text(0.5, 1.0, 'Parameter sigma')"
            ]
          },
          "metadata": {},
          "execution_count": 21
        },
        {
          "output_type": "display_data",
          "data": {
            "text/plain": [
              "<Figure size 432x288 with 1 Axes>"
            ],
            "image/png": "[encoded data removed]"
          },
          "metadata": {
            "needs_background": "light"
          }
        }
      ],
      "source": [
        "plt.plot(lista_sigma_21dias)\n",
        "plt.plot(lista_b_21dias)\n",
        "\n",
        "plt.xlabel('Days')\n",
        "plt.title('Parameter sigma')"
      ],
      "id": "NoTRvFSdq_iE"
    },
    {
      "cell_type": "code",
      "execution_count": null,
      "metadata": {
        "id": "wzQNmUffe_mQ"
      },
      "outputs": [],
      "source": [
        "import ast\n",
        "res = ast.literal_eval(ini_list)"
      ],
      "id": "wzQNmUffe_mQ"
    },
    {
      "cell_type": "code",
      "execution_count": 22,
      "metadata": {
        "id": "jTpAMC0dc3p3"
      },
      "outputs": [],
      "source": [
        "dict_to_save = {'alpha7dias': lista_a_7dias,\n",
        "                'beta7dias': lista_b_7dias,\n",
        "                'rho7dias': lista_rho_7dias,\n",
        "                'sigma7dias': lista_sigma_7dias,\n",
        "                'm7dias': lista_m_7dias,\n",
        "\n",
        "                'alpha14dias': lista_a_14dias,\n",
        "                'beta14dias': lista_b_14dias,\n",
        "                'rho14dias': lista_rho_14dias,\n",
        "                'sigma14dias': lista_sigma_14dias,\n",
        "                'm14dias': lista_m_14dias,\n",
        "                \n",
        "                'alpha21dias': lista_a_21dias,\n",
        "                'beta21dias': lista_b_21dias,\n",
        "                'rho21dias': lista_rho_21dias,\n",
        "                'sigma21dias': lista_sigma_21dias,\n",
        "                'm21dias': lista_m_21dias,\n",
        "                \n",
        "                'alpha30dias': lista_a_30dias,\n",
        "                'beta30dias': lista_b_30dias,\n",
        "                'rho30dias': lista_rho_30dias,\n",
        "                'sigma30dias': lista_sigma_30dias,\n",
        "                'm30dias': lista_m_30dias,\n",
        "                \n",
        "                'alpha60dias': lista_a_60dias,\n",
        "                'beta60dias': lista_b_60dias,\n",
        "                'rho60dias': lista_rho_60dias,\n",
        "                'sigma60dias': lista_sigma_60dias,\n",
        "                'm60dias': lista_m_60dias,\n",
        "\n",
        "                'data_pregao': date_list\n",
        "                \n",
        "}"
      ],
      "id": "jTpAMC0dc3p3"
    },
    {
      "cell_type": "code",
      "execution_count": 23,
      "metadata": {
        "id": "h6235WnQdnKd"
      },
      "outputs": [],
      "source": [
        "dados_interpolados = pd.DataFrame.from_dict(dict_to_save)\n",
        "dados_interpolados.to_csv(\"ListaInterpolada_PETR_2010_12.csv\")"
      ],
      "id": "h6235WnQdnKd"
    },
    {
      "cell_type": "code",
      "execution_count": null,
      "metadata": {
        "colab": {
          "base_uri": "https://localhost:8080/",
          "height": 380
        },
        "id": "m6UDpDDiRnYg",
        "outputId": "83edb689-4d9b-401d-e51a-eea1844e9a59"
      },
      "outputs": [
        {
          "ename": "FileNotFoundError",
          "evalue": "ignored",
          "output_type": "error",
          "traceback": [
            "\u001b[0;31m---------------------------------------------------------------------------\u001b[0m",
            "\u001b[0;31mFileNotFoundError\u001b[0m                         Traceback (most recent call last)",
            "\u001b[0;32m<ipython-input-22-d66d0fa16ef3>\u001b[0m in \u001b[0;36m<module>\u001b[0;34m\u001b[0m\n\u001b[0;32m----> 1\u001b[0;31m \u001b[0mdf_recupera\u001b[0m \u001b[0;34m=\u001b[0m \u001b[0mpd\u001b[0m\u001b[0;34m.\u001b[0m\u001b[0mread_csv\u001b[0m\u001b[0;34m(\u001b[0m\u001b[0;34m\"Salvando233.csv\"\u001b[0m\u001b[0;34m)\u001b[0m\u001b[0;34m\u001b[0m\u001b[0;34m\u001b[0m\u001b[0m\n\u001b[0m\u001b[1;32m      2\u001b[0m \u001b[0mlista_parâmetros\u001b[0m \u001b[0;34m=\u001b[0m \u001b[0mdf_recupera\u001b[0m\u001b[0;34m[\u001b[0m\u001b[0;34m'params'\u001b[0m\u001b[0;34m]\u001b[0m\u001b[0;34m.\u001b[0m\u001b[0mto_list\u001b[0m\u001b[0;34m(\u001b[0m\u001b[0;34m)\u001b[0m\u001b[0;34m\u001b[0m\u001b[0;34m\u001b[0m\u001b[0m\n\u001b[1;32m      3\u001b[0m \u001b[0mlista_tenors_final\u001b[0m \u001b[0;34m=\u001b[0m \u001b[0mdf_recupera\u001b[0m\u001b[0;34m[\u001b[0m\u001b[0;34m'tenors'\u001b[0m\u001b[0;34m]\u001b[0m\u001b[0;34m.\u001b[0m\u001b[0mto_list\u001b[0m\u001b[0;34m(\u001b[0m\u001b[0;34m)\u001b[0m\u001b[0;34m\u001b[0m\u001b[0;34m\u001b[0m\u001b[0m\n\u001b[1;32m      4\u001b[0m \u001b[0mdatas_pregao\u001b[0m \u001b[0;34m=\u001b[0m \u001b[0mdf_recupera\u001b[0m\u001b[0;34m[\u001b[0m\u001b[0;34m'data_pregao'\u001b[0m\u001b[0;34m]\u001b[0m\u001b[0;34m.\u001b[0m\u001b[0mto_list\u001b[0m\u001b[0;34m(\u001b[0m\u001b[0;34m)\u001b[0m\u001b[0;34m\u001b[0m\u001b[0;34m\u001b[0m\u001b[0m\n",
            "\u001b[0;32m/usr/local/lib/python3.7/dist-packages/pandas/util/_decorators.py\u001b[0m in \u001b[0;36mwrapper\u001b[0;34m(*args, **kwargs)\u001b[0m\n\u001b[1;32m    309\u001b[0m                     \u001b[0mstacklevel\u001b[0m\u001b[0;34m=\u001b[0m\u001b[0mstacklevel\u001b[0m\u001b[0;34m,\u001b[0m\u001b[0;34m\u001b[0m\u001b[0;34m\u001b[0m\u001b[0m\n\u001b[1;32m    310\u001b[0m                 )\n\u001b[0;32m--> 311\u001b[0;31m             \u001b[0;32mreturn\u001b[0m \u001b[0mfunc\u001b[0m\u001b[0;34m(\u001b[0m\u001b[0;34m*\u001b[0m\u001b[0margs\u001b[0m\u001b[0;34m,\u001b[0m \u001b[0;34m**\u001b[0m\u001b[0mkwargs\u001b[0m\u001b[0;34m)\u001b[0m\u001b[0;34m\u001b[0m\u001b[0;34m\u001b[0m\u001b[0m\n\u001b[0m\u001b[1;32m    312\u001b[0m \u001b[0;34m\u001b[0m\u001b[0m\n\u001b[1;32m    313\u001b[0m         \u001b[0;32mreturn\u001b[0m \u001b[0mwrapper\u001b[0m\u001b[0;34m\u001b[0m\u001b[0;34m\u001b[0m\u001b[0m\n",
            "\u001b[0;32m/usr/local/lib/python3.7/dist-packages/pandas/io/parsers/readers.py\u001b[0m in \u001b[0;36mread_csv\u001b[0;34m(filepath_or_buffer, sep, delimiter, header, names, index_col, usecols, squeeze, prefix, mangle_dupe_cols, dtype, engine, converters, true_values, false_values, skipinitialspace, skiprows, skipfooter, nrows, na_values, keep_default_na, na_filter, verbose, skip_blank_lines, parse_dates, infer_datetime_format, keep_date_col, date_parser, dayfirst, cache_dates, iterator, chunksize, compression, thousands, decimal, lineterminator, quotechar, quoting, doublequote, escapechar, comment, encoding, encoding_errors, dialect, error_bad_lines, warn_bad_lines, on_bad_lines, delim_whitespace, low_memory, memory_map, float_precision, storage_options)\u001b[0m\n\u001b[1;32m    584\u001b[0m     \u001b[0mkwds\u001b[0m\u001b[0;34m.\u001b[0m\u001b[0mupdate\u001b[0m\u001b[0;34m(\u001b[0m\u001b[0mkwds_defaults\u001b[0m\u001b[0;34m)\u001b[0m\u001b[0;34m\u001b[0m\u001b[0;34m\u001b[0m\u001b[0m\n\u001b[1;32m    585\u001b[0m \u001b[0;34m\u001b[0m\u001b[0m\n\u001b[0;32m--> 586\u001b[0;31m     \u001b[0;32mreturn\u001b[0m \u001b[0m_read\u001b[0m\u001b[0;34m(\u001b[0m\u001b[0mfilepath_or_buffer\u001b[0m\u001b[0;34m,\u001b[0m \u001b[0mkwds\u001b[0m\u001b[0;34m)\u001b[0m\u001b[0;34m\u001b[0m\u001b[0;34m\u001b[0m\u001b[0m\n\u001b[0m\u001b[1;32m    587\u001b[0m \u001b[0;34m\u001b[0m\u001b[0m\n\u001b[1;32m    588\u001b[0m \u001b[0;34m\u001b[0m\u001b[0m\n",
            "\u001b[0;32m/usr/local/lib/python3.7/dist-packages/pandas/io/parsers/readers.py\u001b[0m in \u001b[0;36m_read\u001b[0;34m(filepath_or_buffer, kwds)\u001b[0m\n\u001b[1;32m    480\u001b[0m \u001b[0;34m\u001b[0m\u001b[0m\n\u001b[1;32m    481\u001b[0m     \u001b[0;31m# Create the parser.\u001b[0m\u001b[0;34m\u001b[0m\u001b[0;34m\u001b[0m\u001b[0;34m\u001b[0m\u001b[0m\n\u001b[0;32m--> 482\u001b[0;31m     \u001b[0mparser\u001b[0m \u001b[0;34m=\u001b[0m \u001b[0mTextFileReader\u001b[0m\u001b[0;34m(\u001b[0m\u001b[0mfilepath_or_buffer\u001b[0m\u001b[0;34m,\u001b[0m \u001b[0;34m**\u001b[0m\u001b[0mkwds\u001b[0m\u001b[0;34m)\u001b[0m\u001b[0;34m\u001b[0m\u001b[0;34m\u001b[0m\u001b[0m\n\u001b[0m\u001b[1;32m    483\u001b[0m \u001b[0;34m\u001b[0m\u001b[0m\n\u001b[1;32m    484\u001b[0m     \u001b[0;32mif\u001b[0m \u001b[0mchunksize\u001b[0m \u001b[0;32mor\u001b[0m \u001b[0miterator\u001b[0m\u001b[0;34m:\u001b[0m\u001b[0;34m\u001b[0m\u001b[0;34m\u001b[0m\u001b[0m\n",
            "\u001b[0;32m/usr/local/lib/python3.7/dist-packages/pandas/io/parsers/readers.py\u001b[0m in \u001b[0;36m__init__\u001b[0;34m(self, f, engine, **kwds)\u001b[0m\n\u001b[1;32m    809\u001b[0m             \u001b[0mself\u001b[0m\u001b[0;34m.\u001b[0m\u001b[0moptions\u001b[0m\u001b[0;34m[\u001b[0m\u001b[0;34m\"has_index_names\"\u001b[0m\u001b[0;34m]\u001b[0m \u001b[0;34m=\u001b[0m \u001b[0mkwds\u001b[0m\u001b[0;34m[\u001b[0m\u001b[0;34m\"has_index_names\"\u001b[0m\u001b[0;34m]\u001b[0m\u001b[0;34m\u001b[0m\u001b[0;34m\u001b[0m\u001b[0m\n\u001b[1;32m    810\u001b[0m \u001b[0;34m\u001b[0m\u001b[0m\n\u001b[0;32m--> 811\u001b[0;31m         \u001b[0mself\u001b[0m\u001b[0;34m.\u001b[0m\u001b[0m_engine\u001b[0m \u001b[0;34m=\u001b[0m \u001b[0mself\u001b[0m\u001b[0;34m.\u001b[0m\u001b[0m_make_engine\u001b[0m\u001b[0;34m(\u001b[0m\u001b[0mself\u001b[0m\u001b[0;34m.\u001b[0m\u001b[0mengine\u001b[0m\u001b[0;34m)\u001b[0m\u001b[0;34m\u001b[0m\u001b[0;34m\u001b[0m\u001b[0m\n\u001b[0m\u001b[1;32m    812\u001b[0m \u001b[0;34m\u001b[0m\u001b[0m\n\u001b[1;32m    813\u001b[0m     \u001b[0;32mdef\u001b[0m \u001b[0mclose\u001b[0m\u001b[0;34m(\u001b[0m\u001b[0mself\u001b[0m\u001b[0;34m)\u001b[0m\u001b[0;34m:\u001b[0m\u001b[0;34m\u001b[0m\u001b[0;34m\u001b[0m\u001b[0m\n",
            "\u001b[0;32m/usr/local/lib/python3.7/dist-packages/pandas/io/parsers/readers.py\u001b[0m in \u001b[0;36m_make_engine\u001b[0;34m(self, engine)\u001b[0m\n\u001b[1;32m   1038\u001b[0m             )\n\u001b[1;32m   1039\u001b[0m         \u001b[0;31m# error: Too many arguments for \"ParserBase\"\u001b[0m\u001b[0;34m\u001b[0m\u001b[0;34m\u001b[0m\u001b[0;34m\u001b[0m\u001b[0m\n\u001b[0;32m-> 1040\u001b[0;31m         \u001b[0;32mreturn\u001b[0m \u001b[0mmapping\u001b[0m\u001b[0;34m[\u001b[0m\u001b[0mengine\u001b[0m\u001b[0;34m]\u001b[0m\u001b[0;34m(\u001b[0m\u001b[0mself\u001b[0m\u001b[0;34m.\u001b[0m\u001b[0mf\u001b[0m\u001b[0;34m,\u001b[0m \u001b[0;34m**\u001b[0m\u001b[0mself\u001b[0m\u001b[0;34m.\u001b[0m\u001b[0moptions\u001b[0m\u001b[0;34m)\u001b[0m  \u001b[0;31m# type: ignore[call-arg]\u001b[0m\u001b[0;34m\u001b[0m\u001b[0;34m\u001b[0m\u001b[0m\n\u001b[0m\u001b[1;32m   1041\u001b[0m \u001b[0;34m\u001b[0m\u001b[0m\n\u001b[1;32m   1042\u001b[0m     \u001b[0;32mdef\u001b[0m \u001b[0m_failover_to_python\u001b[0m\u001b[0;34m(\u001b[0m\u001b[0mself\u001b[0m\u001b[0;34m)\u001b[0m\u001b[0;34m:\u001b[0m\u001b[0;34m\u001b[0m\u001b[0;34m\u001b[0m\u001b[0m\n",
            "\u001b[0;32m/usr/local/lib/python3.7/dist-packages/pandas/io/parsers/c_parser_wrapper.py\u001b[0m in \u001b[0;36m__init__\u001b[0;34m(self, src, **kwds)\u001b[0m\n\u001b[1;32m     49\u001b[0m \u001b[0;34m\u001b[0m\u001b[0m\n\u001b[1;32m     50\u001b[0m         \u001b[0;31m# open handles\u001b[0m\u001b[0;34m\u001b[0m\u001b[0;34m\u001b[0m\u001b[0;34m\u001b[0m\u001b[0m\n\u001b[0;32m---> 51\u001b[0;31m         \u001b[0mself\u001b[0m\u001b[0;34m.\u001b[0m\u001b[0m_open_handles\u001b[0m\u001b[0;34m(\u001b[0m\u001b[0msrc\u001b[0m\u001b[0;34m,\u001b[0m \u001b[0mkwds\u001b[0m\u001b[0;34m)\u001b[0m\u001b[0;34m\u001b[0m\u001b[0;34m\u001b[0m\u001b[0m\n\u001b[0m\u001b[1;32m     52\u001b[0m         \u001b[0;32massert\u001b[0m \u001b[0mself\u001b[0m\u001b[0;34m.\u001b[0m\u001b[0mhandles\u001b[0m \u001b[0;32mis\u001b[0m \u001b[0;32mnot\u001b[0m \u001b[0;32mNone\u001b[0m\u001b[0;34m\u001b[0m\u001b[0;34m\u001b[0m\u001b[0m\n\u001b[1;32m     53\u001b[0m \u001b[0;34m\u001b[0m\u001b[0m\n",
            "\u001b[0;32m/usr/local/lib/python3.7/dist-packages/pandas/io/parsers/base_parser.py\u001b[0m in \u001b[0;36m_open_handles\u001b[0;34m(self, src, kwds)\u001b[0m\n\u001b[1;32m    227\u001b[0m             \u001b[0mmemory_map\u001b[0m\u001b[0;34m=\u001b[0m\u001b[0mkwds\u001b[0m\u001b[0;34m.\u001b[0m\u001b[0mget\u001b[0m\u001b[0;34m(\u001b[0m\u001b[0;34m\"memory_map\"\u001b[0m\u001b[0;34m,\u001b[0m \u001b[0;32mFalse\u001b[0m\u001b[0;34m)\u001b[0m\u001b[0;34m,\u001b[0m\u001b[0;34m\u001b[0m\u001b[0;34m\u001b[0m\u001b[0m\n\u001b[1;32m    228\u001b[0m             \u001b[0mstorage_options\u001b[0m\u001b[0;34m=\u001b[0m\u001b[0mkwds\u001b[0m\u001b[0;34m.\u001b[0m\u001b[0mget\u001b[0m\u001b[0;34m(\u001b[0m\u001b[0;34m\"storage_options\"\u001b[0m\u001b[0;34m,\u001b[0m \u001b[0;32mNone\u001b[0m\u001b[0;34m)\u001b[0m\u001b[0;34m,\u001b[0m\u001b[0;34m\u001b[0m\u001b[0;34m\u001b[0m\u001b[0m\n\u001b[0;32m--> 229\u001b[0;31m             \u001b[0merrors\u001b[0m\u001b[0;34m=\u001b[0m\u001b[0mkwds\u001b[0m\u001b[0;34m.\u001b[0m\u001b[0mget\u001b[0m\u001b[0;34m(\u001b[0m\u001b[0;34m\"encoding_errors\"\u001b[0m\u001b[0;34m,\u001b[0m \u001b[0;34m\"strict\"\u001b[0m\u001b[0;34m)\u001b[0m\u001b[0;34m,\u001b[0m\u001b[0;34m\u001b[0m\u001b[0;34m\u001b[0m\u001b[0m\n\u001b[0m\u001b[1;32m    230\u001b[0m         )\n\u001b[1;32m    231\u001b[0m \u001b[0;34m\u001b[0m\u001b[0m\n",
            "\u001b[0;32m/usr/local/lib/python3.7/dist-packages/pandas/io/common.py\u001b[0m in \u001b[0;36mget_handle\u001b[0;34m(path_or_buf, mode, encoding, compression, memory_map, is_text, errors, storage_options)\u001b[0m\n\u001b[1;32m    705\u001b[0m                 \u001b[0mencoding\u001b[0m\u001b[0;34m=\u001b[0m\u001b[0mioargs\u001b[0m\u001b[0;34m.\u001b[0m\u001b[0mencoding\u001b[0m\u001b[0;34m,\u001b[0m\u001b[0;34m\u001b[0m\u001b[0;34m\u001b[0m\u001b[0m\n\u001b[1;32m    706\u001b[0m                 \u001b[0merrors\u001b[0m\u001b[0;34m=\u001b[0m\u001b[0merrors\u001b[0m\u001b[0;34m,\u001b[0m\u001b[0;34m\u001b[0m\u001b[0;34m\u001b[0m\u001b[0m\n\u001b[0;32m--> 707\u001b[0;31m                 \u001b[0mnewline\u001b[0m\u001b[0;34m=\u001b[0m\u001b[0;34m\"\"\u001b[0m\u001b[0;34m,\u001b[0m\u001b[0;34m\u001b[0m\u001b[0;34m\u001b[0m\u001b[0m\n\u001b[0m\u001b[1;32m    708\u001b[0m             )\n\u001b[1;32m    709\u001b[0m         \u001b[0;32melse\u001b[0m\u001b[0;34m:\u001b[0m\u001b[0;34m\u001b[0m\u001b[0;34m\u001b[0m\u001b[0m\n",
            "\u001b[0;31mFileNotFoundError\u001b[0m: [Errno 2] No such file or directory: 'Salvando233.csv'"
          ]
        }
      ],
      "source": [
        "df_recupera = pd.read_csv(\"Salvando233.csv\")\n",
        "lista_parâmetros = df_recupera['params'].to_list()\n",
        "lista_tenors_final = df_recupera['tenors'].to_list()\n",
        "datas_pregao = df_recupera['data_pregao'].to_list()"
      ],
      "id": "m6UDpDDiRnYg"
    },
    {
      "cell_type": "code",
      "execution_count": null,
      "metadata": {
        "colab": {
          "base_uri": "https://localhost:8080/",
          "height": 295
        },
        "id": "SU_WfoYML8rl",
        "outputId": "a06249d8-5144-45f7-8328-e5255763daef"
      },
      "outputs": [
        {
          "data": {
            "image/png": "[encoded data removed]",
            "text/plain": [
              "<Figure size 432x288 with 1 Axes>"
            ]
          },
          "metadata": {},
          "output_type": "display_data"
        }
      ],
      "source": [
        "a1 = lista_alpha[0]\n",
        "b1 = lista_beta[0]\n",
        "r1 = lista_rho[0]\n",
        "s1 = lista_sigma[0]\n",
        "m1 = lista_m[0]\n",
        "\n",
        "a14 = lista_a_14dias[0]\n",
        "b14 = lista_b_14dias[0]\n",
        "r14 = lista_rho_14dias[0]\n",
        "s14 = lista_sigma_14dias[0]\n",
        "m14= lista_m_14dias[0]\n",
        "\n",
        "a2 = lista_alpha[1]\n",
        "b2 = lista_beta[1]\n",
        "r2 = lista_rho[1]\n",
        "s2 = lista_sigma[1]\n",
        "m2 = lista_m[1]\n",
        "\n",
        "\n",
        "x_line = np.arange(-0.5, 0.7, 0.001)\n",
        "\n",
        "y_line = objective(x_line, a1, b1, r1, s1, m1)\n",
        "y_line2 = objective(x_line, a2, b2, r2, s2, m2)\n",
        "y_line3 = objective(x_line, a14, b14, r14, s14, m14)\n",
        "plt.plot(x_line, y_line, '--', color='red', label = 'Fitted SVI 11 dias')\n",
        "plt.plot(x_line, y_line2, '--', color='blue', label ='Fitted SVI 26 dias')\n",
        "plt.plot(x_line, y_line3, '--', color='orange', label='SVI Interpolada 14 dias')\n",
        "\n",
        "plt.title(\"Interpolação de tenors - VALE3\")\n",
        "plt.ylabel(\"Volatilidade\")\n",
        "plt.xlabel(\"Log-Forward Moneyness\")\n",
        "plt.legend()\n",
        "\n",
        "plt.show()"
      ],
      "id": "SU_WfoYML8rl"
    }
  ],
  "metadata": {
    "colab": {
      "provenance": []
    },
    "kernelspec": {
      "display_name": "Python 3 (ipykernel)",
      "language": "python",
      "name": "python3"
    },
    "language_info": {
      "codemirror_mode": {
        "name": "ipython",
        "version": 3
      },
      "file_extension": ".py",
      "mimetype": "text/x-python",
      "name": "python",
      "nbconvert_exporter": "python",
      "pygments_lexer": "ipython3",
      "version": "3.9.5"
    }
  },
  "nbformat": 4,
  "nbformat_minor": 5
}